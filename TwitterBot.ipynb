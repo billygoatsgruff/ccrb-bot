{
 "cells": [
  {
   "cell_type": "code",
   "execution_count": 1,
   "metadata": {},
   "outputs": [],
   "source": [
    "import tweepy\n",
    "import requests\n",
    "import urllib\n",
    "import json"
   ]
  },
  {
   "cell_type": "code",
   "execution_count": 2,
   "metadata": {},
   "outputs": [],
   "source": [
    "from credentials import *"
   ]
  },
  {
   "cell_type": "code",
   "execution_count": 3,
   "metadata": {},
   "outputs": [],
   "source": [
    "auth = tweepy.OAuthHandler(consumer_key, consumer_secret)\n",
    "auth.set_access_token(access_token, access_token_secret)\n",
    "api = tweepy.API(auth)\n",
    "user = api.me()"
   ]
  },
  {
   "cell_type": "code",
   "execution_count": 4,
   "metadata": {},
   "outputs": [],
   "source": [
    "def get_info(status):\n",
    "    print(\"responding to: \")\n",
    "    print(status.id)\n",
    "    return {\n",
    "        \"text\": status.text,\n",
    "        \"username\": status.author.screen_name,\n",
    "        \"user_id\": status.author.id,\n",
    "        \"in_reply_to\": status.in_reply_to_status_id,\n",
    "        \"id\": status.id   \n",
    "    }"
   ]
  },
  {
   "cell_type": "code",
   "execution_count": 5,
   "metadata": {},
   "outputs": [],
   "source": [
    "def is_int(string):\n",
    "    try:\n",
    "        print(string)\n",
    "        return int(string)\n",
    "    except ValueError:\n",
    "        return False\n",
    "def is_badgeNumber(string):\n",
    "    return is_int(string) and len(string) > 3\n",
    "def parse_StringForInt(string):\n",
    "    words = string.split()\n",
    "    for i in range(0, len(words)):\n",
    "        word = words[i]\n",
    "        #check for if suffixed by period\n",
    "        if word[len(word) - 1] == \".\":\n",
    "            if is_int(word.split(\".\")[0]):\n",
    "                return int(word.split(\".\")[0])\n",
    "            else: \n",
    "                continue\n",
    "        else:\n",
    "            if is_int(word):\n",
    "                return int(word)\n",
    "    return None"
   ]
  },
  {
   "cell_type": "code",
   "execution_count": 6,
   "metadata": {},
   "outputs": [
    {
     "name": "stdout",
     "output_type": "stream",
     "text": [
      "5\n",
      "5\n",
      "5\n",
      "5\n"
     ]
    }
   ],
   "source": [
    "print(is_int(\"5\"))\n",
    "print(parse_StringForInt(\"5.\"))"
   ]
  },
  {
   "cell_type": "code",
   "execution_count": 7,
   "metadata": {},
   "outputs": [],
   "source": [
    "def refNumber(_id):\n",
    "    try:\n",
    "        tweet = api.get_status(_id)\n",
    "    except Error:\n",
    "        return None\n",
    "    parts = get_info(tweet)[\"text\"].split(\"ref:\")\n",
    "    print(parts)\n",
    "    if len(parts) != 2:\n",
    "        print(\"not two\")\n",
    "        return None\n",
    "    else:\n",
    "        if is_int(parts[1]):\n",
    "            print(\"Is int\")\n",
    "            return is_int(parts[1])\n",
    "        else:\n",
    "            print(\"isnt int\")\n",
    "            return None"
   ]
  },
  {
   "cell_type": "code",
   "execution_count": 8,
   "metadata": {},
   "outputs": [],
   "source": [
    "def respondToTweet(ref, status, copsDict):\n",
    "    print(\"Getting info\")\n",
    "    tweet = \"@{0} \\n\".format(status[\"username\"])\n",
    "    text = status[\"text\"]\n",
    "    urlquery = \"\"\n",
    "    if (is_badgeNumber(text)):\n",
    "        urlquery = urllib.parse.urlencode({\n",
    "            \"badge_number\": text\n",
    "        })\n",
    "    else:\n",
    "        parsedInt = parse_StringForInt(text)\n",
    "        if (parsedInt != None):\n",
    "            ref = refNumber(status[\"in_reply_to\"])\n",
    "            print(ref)\n",
    "            if ref ==  None:\n",
    "                print(\"ref none\")\n",
    "                return\n",
    "            cops = copsDict[ref]\n",
    "            if cops != None and parsedInt - 1 < len(cops):\n",
    "                cop = cops[parsedInt - 1]\n",
    "                copTweet = tweet + \"Name: {0}\\nBadge Number: {1}\\nComplaints: {2}\".format(cop[\"name\"], cop[\"badge_number\"], cop[\"complaint_count\"])\n",
    "                api.update_status(copTweet, status[\"id\"])\n",
    "                return\n",
    "            else:\n",
    "                return\n",
    "        else:\n",
    "            queryParts = status[\"text\"].split()\n",
    "            query = queryParts[1:len(queryParts)]\n",
    "            queryText = \"\"\n",
    "            if len(query) == 1:\n",
    "                queryText = query[0]\n",
    "            elif len(query) == 2:\n",
    "                queryText = query[0] + \" \" + query[1]\n",
    "            elif len(query) == 3:\n",
    "                queryText = query[0] + \" \" + query[1] + \" \" + query[2]\n",
    "            urlquery = urllib.parse.urlencode({\n",
    "                \"name\": queryText\n",
    "            })\n",
    "    print(urlquery)\n",
    "    r = requests.get(\"http://localhost:3000/api/v1/cops?{0}\".format(urlquery) + \"&limit=10\")\n",
    "    responseJson = r.json()\n",
    "    cops = responseJson[\"cops\"]\n",
    "    if len(responseJson[\"cops\"]) == 0:\n",
    "        tweet += \"We could not find any cops in the NYPD under the given search term.\"\n",
    "        api.update_status(tweet, status[\"id\"]) \n",
    "        return\n",
    "    else:\n",
    "        lengthTweet = tweet + \"We found {0} cops that may match you're search. Respond with the number that you think is the cop you're looking for.\".format(len(responseJson[\"cops\"]))\n",
    "        copsDict[ref] = cops\n",
    "        api.update_status(lengthTweet, status[\"id\"])\n",
    "        for i in range(0, len(cops)):\n",
    "            cop = responseJson[\"cops\"][i]\n",
    "            copTweet = tweet + \"{0}. Name: {1}\\nBadge Number: {2} \\nref:{3}\".format(i + 1, cop[\"name\"], cop[\"badge_number\"], ref)\n",
    "            api.update_status(copTweet, status[\"id\"])  \n",
    "        ref += 1"
   ]
  },
  {
   "cell_type": "code",
   "execution_count": 11,
   "metadata": {},
   "outputs": [],
   "source": [
    "class MyStreamListener(tweepy.StreamListener):\n",
    "    copsDict = {}\n",
    "    refNumber = 1\n",
    "    def on_status(self, status):\n",
    "        if status.user.id != user.id:\n",
    "            info = get_info(status)\n",
    "            respondToTweet(self.refNumber, info, self.copsDict)"
   ]
  },
  {
   "cell_type": "code",
   "execution_count": null,
   "metadata": {},
   "outputs": [
    {
     "name": "stdout",
     "output_type": "stream",
     "text": [
      "responding to: \n",
      "1384891236448878596\n",
      "Getting info\n",
      "@SatireChatBot String\n",
      "@SatireChatBot\n",
      "String\n",
      "name=String\n",
      "responding to: \n",
      "1384891309526290435\n",
      "Getting info\n",
      "@SatireChatBot 1\n",
      "@SatireChatBot\n",
      "1\n",
      "responding to: \n",
      "1384891263837638662\n",
      "['@CalvinC59692666 \\n1. Name: Denise Stringer\\nBadge Number: 6357 \\n', '1']\n",
      "1\n",
      "Is int\n",
      "1\n",
      "1\n"
     ]
    }
   ],
   "source": [
    "myStreamListener = MyStreamListener()\n",
    "myStream = tweepy.Stream(auth = api.auth, listener=myStreamListener)\n",
    "myStream.filter(follow=[user.id_str])"
   ]
  },
  {
   "cell_type": "code",
   "execution_count": null,
   "metadata": {},
   "outputs": [],
   "source": []
  },
  {
   "cell_type": "code",
   "execution_count": null,
   "metadata": {},
   "outputs": [],
   "source": []
  }
 ],
 "metadata": {
  "kernelspec": {
   "display_name": "Python 3",
   "language": "python",
   "name": "python3"
  },
  "language_info": {
   "codemirror_mode": {
    "name": "ipython",
    "version": 3
   },
   "file_extension": ".py",
   "mimetype": "text/x-python",
   "name": "python",
   "nbconvert_exporter": "python",
   "pygments_lexer": "ipython3",
   "version": "3.8.5"
  }
 },
 "nbformat": 4,
 "nbformat_minor": 4
}
